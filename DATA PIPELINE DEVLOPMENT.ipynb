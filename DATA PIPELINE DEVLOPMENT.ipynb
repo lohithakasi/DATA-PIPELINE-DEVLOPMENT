{
 "cells": [
  {
   "cell_type": "code",
   "execution_count": 11,
   "id": "683c5441-ad31-4e4c-965b-ed8694467d2e",
   "metadata": {},
   "outputs": [
    {
     "name": "stdout",
     "output_type": "stream",
     "text": [
      "⏳ Extracting data...\n",
      "✅ Loaded data with 5 rows\n",
      "🔄 Transforming data...\n",
      "✨ Transformed data shape: (5, 15)\n",
      "💾 Saving processed data...\n",
      "🎉 Success! Saved to data/processed_data.csv\n"
     ]
    }
   ],
   "source": [
    "import pandas as pd\n",
    "from sklearn.impute import SimpleImputer\n",
    "from sklearn.preprocessing import StandardScaler, OneHotEncoder\n",
    "from sklearn.compose import ColumnTransformer\n",
    "import os\n",
    "\n",
    "def run_etl(input_file, output_file):\n",
    "    \"\"\"Simple ETL Pipeline\"\"\"\n",
    "    \n",
    "    \n",
    "    print(\"⏳ Extracting data...\")\n",
    "    try:\n",
    "        df = pd.read_csv(input_file)\n",
    "        print(f\"✅ Loaded data with {len(df)} rows\")\n",
    "    except Exception as e:\n",
    "        print(f\"❌ Error loading data: {e}\")\n",
    "        return\n",
    "\n",
    "    \n",
    "    print(\"🔄 Transforming data...\")\n",
    "    \n",
    "    \n",
    "    numeric_cols = df.select_dtypes(include=['number']).columns\n",
    "    categorical_cols = df.select_dtypes(include=['object']).columns\n",
    "\n",
    "    \n",
    "    preprocessor = ColumnTransformer(\n",
    "        transformers=[\n",
    "            ('num', StandardScaler(), numeric_cols),\n",
    "            ('cat', OneHotEncoder(handle_unknown='ignore'), categorical_cols)\n",
    "        ])\n",
    "    \n",
    "    \n",
    "    processed_data = preprocessor.fit_transform(df)\n",
    "    \n",
    "    \n",
    "    numeric_features = numeric_cols.tolist()\n",
    "    categorical_features = preprocessor.named_transformers_['cat'].get_feature_names_out(categorical_cols)\n",
    "    all_features = numeric_features + list(categorical_features)\n",
    "    \n",
    "    \n",
    "    processed_df = pd.DataFrame(processed_data, columns=all_features)\n",
    "    print(f\"✨ Transformed data shape: {processed_df.shape}\")\n",
    "\n",
    "\n",
    "    print(\"💾 Saving processed data...\")\n",
    "    os.makedirs(os.path.dirname(output_file), exist_ok=True)\n",
    "    processed_df.to_csv(output_file, index=False)\n",
    "    print(f\"🎉 Success! Saved to {output_file}\")\n",
    "\n",
    "if __name__ == \"__main__\":\n",
    "    \n",
    "    INPUT_PATH = \"raw_data.csv\"  \n",
    "    OUTPUT_PATH = \"data/processed_data.csv\"\n",
    "    \n",
    "    run_etl(INPUT_PATH, OUTPUT_PATH)"
   ]
  },
  {
   "cell_type": "code",
   "execution_count": null,
   "id": "fe290f2e-0f19-4160-923c-fc309353624f",
   "metadata": {},
   "outputs": [],
   "source": []
  }
 ],
 "metadata": {
  "kernelspec": {
   "display_name": "Python 3 (ipykernel)",
   "language": "python",
   "name": "python3"
  },
  "language_info": {
   "codemirror_mode": {
    "name": "ipython",
    "version": 3
   },
   "file_extension": ".py",
   "mimetype": "text/x-python",
   "name": "python",
   "nbconvert_exporter": "python",
   "pygments_lexer": "ipython3",
   "version": "3.12.4"
  }
 },
 "nbformat": 4,
 "nbformat_minor": 5
}
